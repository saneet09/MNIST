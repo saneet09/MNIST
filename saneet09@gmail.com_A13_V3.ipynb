{
  "nbformat": 4,
  "nbformat_minor": 0,
  "metadata": {
    "colab": {
      "name": "CNNinMNIST.ipynb",
      "version": "0.3.2",
      "provenance": [],
      "collapsed_sections": []
    },
    "kernelspec": {
      "name": "python3",
      "display_name": "Python 3"
    }
  },
  "cells": [
    {
      "cell_type": "code",
      "metadata": {
        "id": "2z9mHR-QQaPH",
        "colab_type": "code",
        "outputId": "6decb5e1-9113-4192-a888-955a49fbb143",
        "colab": {
          "base_uri": "https://localhost:8080/",
          "height": 67
        }
      },
      "source": [
        "# Credits: https://github.com/keras-team/keras/blob/master/examples/mnist_cnn.py\n",
        "\n",
        "\n",
        "from __future__ import print_function\n",
        "import keras\n",
        "from keras.datasets import mnist\n",
        "from keras.models import Sequential\n",
        "from keras.layers import Dense, Dropout, Flatten\n",
        "from keras.layers import Conv2D, MaxPooling2D\n",
        "from keras import backend as K\n",
        "from keras.models import Sequential\n",
        "from keras.layers import Conv2D, MaxPooling2D\n",
        "from keras.layers import Activation, Dropout, Flatten, Dense\n",
        "from keras.layers.normalization import BatchNormalization\n",
        "batch_size = 128\n",
        "num_classes = 10\n",
        "epochs = 12\n",
        "\n",
        "# input image dimensions\n",
        "img_rows, img_cols = 28, 28\n",
        "\n",
        "# the data, split between train and test sets\n",
        "(x_train, y_train), (x_test, y_test) = mnist.load_data()\n",
        "\n",
        "if K.image_data_format() == 'channels_first':\n",
        "    x_train = x_train.reshape(x_train.shape[0], 1, img_rows, img_cols)\n",
        "    x_test = x_test.reshape(x_test.shape[0], 1, img_rows, img_cols)\n",
        "    input_shape = (1, img_rows, img_cols)\n",
        "else:\n",
        "    x_train = x_train.reshape(x_train.shape[0], img_rows, img_cols, 1)\n",
        "    x_test = x_test.reshape(x_test.shape[0], img_rows, img_cols, 1)\n",
        "    input_shape = (img_rows, img_cols, 1)\n",
        "\n",
        "x_train = x_train.astype('float32')\n",
        "x_test = x_test.astype('float32')\n",
        "x_train /= 255\n",
        "x_test /= 255\n",
        "print('x_train shape:', x_train.shape)\n",
        "print(x_train.shape[0], 'train samples')\n",
        "print(x_test.shape[0], 'test samples')\n",
        "\n",
        "# convert class vectors to binary class matrices\n",
        "y_train = keras.utils.to_categorical(y_train, num_classes)\n",
        "y_test = keras.utils.to_categorical(y_test, num_classes)"
      ],
      "execution_count": 3,
      "outputs": [
        {
          "output_type": "stream",
          "text": [
            "x_train shape: (60000, 28, 28, 1)\n",
            "60000 train samples\n",
            "10000 test samples\n"
          ],
          "name": "stdout"
        }
      ]
    },
    {
      "cell_type": "markdown",
      "metadata": {
        "id": "5KokjzzySPC8",
        "colab_type": "text"
      },
      "source": [
        "<h2>ConvNet 3X3</h2>"
      ]
    },
    {
      "cell_type": "code",
      "metadata": {
        "id": "KO_apdCoQk1L",
        "colab_type": "code",
        "outputId": "a59979c1-271f-4493-c074-055cad2e17e2",
        "colab": {
          "base_uri": "https://localhost:8080/",
          "height": 470
        }
      },
      "source": [
        "model = Sequential()\n",
        "model.add(Conv2D(32, kernel_size=(3, 3),\n",
        "                 activation='relu',\n",
        "                 input_shape=input_shape))\n",
        "model.add(MaxPooling2D(pool_size=(2, 2)))\n",
        "model.add(Conv2D(64, (3, 3), activation='relu'))\n",
        "model.add(MaxPooling2D(pool_size=(2, 2)))\n",
        "model.add(Dropout(0.25)) \n",
        "model.add(Flatten())\n",
        "model.add(Dense(128, activation='relu'))\n",
        "model.add(Dropout(0.5))\n",
        "model.add(Dense(num_classes, activation='softmax'))\n",
        "\n",
        "model.compile(loss=keras.losses.categorical_crossentropy,\n",
        "              optimizer=keras.optimizers.Adadelta(),\n",
        "              metrics=['accuracy'])\n",
        "\n",
        "history=model.fit(x_train, y_train,\n",
        "          batch_size=batch_size,\n",
        "          epochs=epochs,\n",
        "          verbose=1,\n",
        "          validation_data=(x_test, y_test))\n",
        "score = model.evaluate(x_test, y_test, verbose=0)\n",
        "print('Test loss:', score[0])\n",
        "print('Test accuracy:', score[1])"
      ],
      "execution_count": 5,
      "outputs": [
        {
          "output_type": "stream",
          "text": [
            "Train on 60000 samples, validate on 10000 samples\n",
            "Epoch 1/12\n",
            "60000/60000 [==============================] - 52s 864us/step - loss: 0.3149 - acc: 0.9011 - val_loss: 0.0703 - val_acc: 0.9767\n",
            "Epoch 2/12\n",
            "60000/60000 [==============================] - 51s 848us/step - loss: 0.1051 - acc: 0.9685 - val_loss: 0.0468 - val_acc: 0.9848\n",
            "Epoch 3/12\n",
            "60000/60000 [==============================] - 51s 850us/step - loss: 0.0779 - acc: 0.9765 - val_loss: 0.0347 - val_acc: 0.9876\n",
            "Epoch 4/12\n",
            "60000/60000 [==============================] - 52s 867us/step - loss: 0.0666 - acc: 0.9799 - val_loss: 0.0304 - val_acc: 0.9898\n",
            "Epoch 5/12\n",
            "60000/60000 [==============================] - 51s 851us/step - loss: 0.0585 - acc: 0.9821 - val_loss: 0.0280 - val_acc: 0.9907\n",
            "Epoch 6/12\n",
            "60000/60000 [==============================] - 51s 845us/step - loss: 0.0533 - acc: 0.9842 - val_loss: 0.0282 - val_acc: 0.9906\n",
            "Epoch 7/12\n",
            "60000/60000 [==============================] - 51s 845us/step - loss: 0.0465 - acc: 0.9866 - val_loss: 0.0263 - val_acc: 0.9913\n",
            "Epoch 8/12\n",
            "60000/60000 [==============================] - 51s 850us/step - loss: 0.0439 - acc: 0.9871 - val_loss: 0.0232 - val_acc: 0.9916\n",
            "Epoch 9/12\n",
            "60000/60000 [==============================] - 52s 863us/step - loss: 0.0400 - acc: 0.9879 - val_loss: 0.0224 - val_acc: 0.9921\n",
            "Epoch 10/12\n",
            "60000/60000 [==============================] - 51s 850us/step - loss: 0.0385 - acc: 0.9883 - val_loss: 0.0239 - val_acc: 0.9918\n",
            "Epoch 11/12\n",
            "60000/60000 [==============================] - 51s 849us/step - loss: 0.0354 - acc: 0.9891 - val_loss: 0.0228 - val_acc: 0.9913\n",
            "Epoch 12/12\n",
            "60000/60000 [==============================] - 52s 865us/step - loss: 0.0340 - acc: 0.9894 - val_loss: 0.0209 - val_acc: 0.9932\n",
            "Test loss: 0.020876003650446364\n",
            "Test accuracy: 0.9932\n"
          ],
          "name": "stdout"
        }
      ]
    },
    {
      "cell_type": "code",
      "metadata": {
        "id": "3Tktmm729-IA",
        "colab_type": "code",
        "colab": {
          "base_uri": "https://localhost:8080/",
          "height": 295
        },
        "outputId": "9424761d-17e6-475d-b7a9-0dd1e754387b"
      },
      "source": [
        "import matplotlib.pyplot as plt\n",
        "plt.plot(history.history['loss'])\n",
        "plt.plot(history.history['val_loss'])\n",
        "plt.title('model loss')\n",
        "plt.ylabel('loss')\n",
        "plt.xlabel('epoch')\n",
        "plt.legend(['train', 'test'], loc='upper left')\n",
        "plt.show()"
      ],
      "execution_count": 8,
      "outputs": [
        {
          "output_type": "display_data",
          "data": {
            "image/png": "[encoded data removed]",
            "text/plain": [
              "<Figure size 432x288 with 1 Axes>"
            ]
          },
          "metadata": {
            "tags": []
          }
        }
      ]
    },
    {
      "cell_type": "markdown",
      "metadata": {
        "id": "ZMA1u1WNBbMS",
        "colab_type": "text"
      },
      "source": [
        "<h2>Observations:</h2>\n",
        "\n",
        "\n",
        "*   we can see that validation loss and train loss almost parallel means model is not overfitting.\n",
        "\n"
      ]
    },
    {
      "cell_type": "markdown",
      "metadata": {
        "id": "Q_Ha8RveSYWk",
        "colab_type": "text"
      },
      "source": [
        "<h2>ConvNet 5X5</h2>"
      ]
    },
    {
      "cell_type": "code",
      "metadata": {
        "id": "-WzclK37vLi0",
        "colab_type": "code",
        "outputId": "98a895d8-0cd5-4864-9eb5-33f94602896d",
        "colab": {
          "base_uri": "https://localhost:8080/",
          "height": 524
        }
      },
      "source": [
        "from keras.layers.normalization import BatchNormalization\n",
        "model = Sequential()\n",
        "model.add(Conv2D(32, kernel_size=(5,5),\n",
        "                 activation='relu',\n",
        "                 input_shape=input_shape))\n",
        "model.add(MaxPooling2D(pool_size=(3,3)))\n",
        "model.add(BatchNormalization())\n",
        "\n",
        "model.add(Conv2D(64, (5, 5), activation='relu'))\n",
        "model.add(MaxPooling2D(pool_size=(3,3)))\n",
        "model.add(BatchNormalization())\n",
        "\n",
        "\n",
        "\n",
        "model.add(Dropout(0.5))\n",
        "model.add(Flatten())\n",
        "model.add(Dense(256, activation='relu'))\n",
        "model.add(Dropout(0.5))\n",
        "model.add(Dense(num_classes, activation='softmax'))\n",
        "model.compile(loss=keras.losses.categorical_crossentropy,\n",
        "              optimizer=keras.optimizers.Adadelta(),\n",
        "              metrics=['accuracy'])\n",
        "\n",
        "history1=model.fit(x_train, y_train,\n",
        "          batch_size=batch_size,\n",
        "          epochs=epochs,\n",
        "          verbose=1,\n",
        "          validation_data=(x_test, y_test))\n",
        "score = model.evaluate(x_test, y_test, verbose=0)\n",
        "print('Test loss:', score[0])\n",
        "print('Test accuracy:', score[1])"
      ],
      "execution_count": 9,
      "outputs": [
        {
          "output_type": "stream",
          "text": [
            "W0730 18:11:10.088495 140420683405184 deprecation_wrapper.py:119] From /usr/local/lib/python3.6/dist-packages/keras/backend/tensorflow_backend.py:1834: The name tf.nn.fused_batch_norm is deprecated. Please use tf.compat.v1.nn.fused_batch_norm instead.\n",
            "\n"
          ],
          "name": "stderr"
        },
        {
          "output_type": "stream",
          "text": [
            "Train on 60000 samples, validate on 10000 samples\n",
            "Epoch 1/12\n",
            "60000/60000 [==============================] - 39s 650us/step - loss: 0.3118 - acc: 0.9045 - val_loss: 0.0569 - val_acc: 0.9822\n",
            "Epoch 2/12\n",
            "60000/60000 [==============================] - 38s 641us/step - loss: 0.1218 - acc: 0.9636 - val_loss: 0.0447 - val_acc: 0.9858\n",
            "Epoch 3/12\n",
            "60000/60000 [==============================] - 39s 643us/step - loss: 0.0965 - acc: 0.9718 - val_loss: 0.0406 - val_acc: 0.9881\n",
            "Epoch 4/12\n",
            "60000/60000 [==============================] - 38s 638us/step - loss: 0.0762 - acc: 0.9775 - val_loss: 0.0353 - val_acc: 0.9897\n",
            "Epoch 5/12\n",
            "60000/60000 [==============================] - 38s 640us/step - loss: 0.0671 - acc: 0.9802 - val_loss: 0.0372 - val_acc: 0.9900\n",
            "Epoch 6/12\n",
            "60000/60000 [==============================] - 38s 634us/step - loss: 0.0608 - acc: 0.9816 - val_loss: 0.0408 - val_acc: 0.9889\n",
            "Epoch 7/12\n",
            "60000/60000 [==============================] - 39s 644us/step - loss: 0.0566 - acc: 0.9827 - val_loss: 0.0363 - val_acc: 0.9902\n",
            "Epoch 8/12\n",
            "60000/60000 [==============================] - 39s 643us/step - loss: 0.0523 - acc: 0.9840 - val_loss: 0.0319 - val_acc: 0.9918\n",
            "Epoch 9/12\n",
            "60000/60000 [==============================] - 38s 633us/step - loss: 0.0482 - acc: 0.9859 - val_loss: 0.0339 - val_acc: 0.9914\n",
            "Epoch 10/12\n",
            "60000/60000 [==============================] - 38s 634us/step - loss: 0.0435 - acc: 0.9868 - val_loss: 0.0312 - val_acc: 0.9918\n",
            "Epoch 11/12\n",
            "60000/60000 [==============================] - 38s 638us/step - loss: 0.0432 - acc: 0.9872 - val_loss: 0.0302 - val_acc: 0.9919\n",
            "Epoch 12/12\n",
            "60000/60000 [==============================] - 39s 643us/step - loss: 0.0420 - acc: 0.9876 - val_loss: 0.0332 - val_acc: 0.9919\n",
            "Test loss: 0.03317917616614086\n",
            "Test accuracy: 0.9919\n"
          ],
          "name": "stdout"
        }
      ]
    },
    {
      "cell_type": "code",
      "metadata": {
        "id": "G_FTtYEtE72Q",
        "colab_type": "code",
        "colab": {
          "base_uri": "https://localhost:8080/",
          "height": 295
        },
        "outputId": "7a84d6a3-217b-41c4-f49f-3a0ae7950934"
      },
      "source": [
        "import matplotlib.pyplot as plt\n",
        "plt.plot(history1.history['loss'])\n",
        "plt.plot(history1.history['val_loss'])\n",
        "plt.title('model loss')\n",
        "plt.ylabel('loss')\n",
        "plt.xlabel('epoch')\n",
        "plt.legend(['train', 'test'], loc='upper left')\n",
        "plt.show()"
      ],
      "execution_count": 11,
      "outputs": [
        {
          "output_type": "display_data",
          "data": {
            "image/png": "[encoded data removed]",
            "text/plain": [
              "<Figure size 432x288 with 1 Axes>"
            ]
          },
          "metadata": {
            "tags": []
          }
        }
      ]
    },
    {
      "cell_type": "markdown",
      "metadata": {
        "id": "jR3qrE5pKlum",
        "colab_type": "text"
      },
      "source": [
        "<h2>Observations:</h2>\n",
        "\n",
        "\n",
        "*   we can see that validation loss and train loss almost parallel means model is not overfitting.\n"
      ]
    },
    {
      "cell_type": "markdown",
      "metadata": {
        "id": "CzEU3FJ5Shgq",
        "colab_type": "text"
      },
      "source": [
        "<h2>ConvNet  2X2</h2>"
      ]
    },
    {
      "cell_type": "code",
      "metadata": {
        "id": "vAV1xgWKR8_j",
        "colab_type": "code",
        "outputId": "79f50338-9f8e-4423-e5b6-14392eb506a8",
        "colab": {
          "base_uri": "https://localhost:8080/",
          "height": 470
        }
      },
      "source": [
        "model = Sequential()\n",
        "model.add(Conv2D(32, kernel_size=(2,2),\n",
        "                 activation='relu',\n",
        "                 input_shape=input_shape))\n",
        "model.add(MaxPooling2D(pool_size=(1,1)))\n",
        "model.add(BatchNormalization())\n",
        "\n",
        "model.add(Conv2D(40, (2,2), activation='relu'))\n",
        "model.add(MaxPooling2D(pool_size=(1,1)))\n",
        "model.add(BatchNormalization())\n",
        "\n",
        "model.add(Conv2D(64, (2,2), activation='relu'))\n",
        "model.add(MaxPooling2D(pool_size=(1,1)))\n",
        "model.add(BatchNormalization())\n",
        "model.add(Dropout(0.2))\n",
        "\n",
        "model.add(Flatten())\n",
        "model.add(Dense(128, activation='relu'))\n",
        "model.add(Dropout(0.2))\n",
        "model.add(Dense(num_classes, activation='softmax'))\n",
        "\n",
        "model.compile(loss=keras.losses.categorical_crossentropy,\n",
        "              optimizer=keras.optimizers.Adadelta(),\n",
        "              metrics=['accuracy'])\n",
        "\n",
        "history2=model.fit(x_train, y_train,\n",
        "          batch_size=batch_size,\n",
        "          epochs=epochs,\n",
        "          verbose=1,\n",
        "          validation_data=(x_test, y_test))\n",
        "score = model.evaluate(x_test, y_test, verbose=0)\n",
        "print('Test loss:', score[0])\n",
        "print('Test accuracy:', score[1])"
      ],
      "execution_count": 12,
      "outputs": [
        {
          "output_type": "stream",
          "text": [
            "Train on 60000 samples, validate on 10000 samples\n",
            "Epoch 1/12\n",
            "60000/60000 [==============================] - 516s 9ms/step - loss: 0.3469 - acc: 0.9336 - val_loss: 0.1174 - val_acc: 0.9759\n",
            "Epoch 2/12\n",
            "60000/60000 [==============================] - 524s 9ms/step - loss: 0.0806 - acc: 0.9790 - val_loss: 0.0665 - val_acc: 0.9831\n",
            "Epoch 3/12\n",
            "60000/60000 [==============================] - 517s 9ms/step - loss: 0.0431 - acc: 0.9882 - val_loss: 0.0733 - val_acc: 0.9836\n",
            "Epoch 4/12\n",
            "60000/60000 [==============================] - 508s 8ms/step - loss: 0.0286 - acc: 0.9918 - val_loss: 0.0795 - val_acc: 0.9836\n",
            "Epoch 5/12\n",
            "60000/60000 [==============================] - 506s 8ms/step - loss: 0.0191 - acc: 0.9945 - val_loss: 0.1101 - val_acc: 0.9831\n",
            "Epoch 6/12\n",
            "60000/60000 [==============================] - 511s 9ms/step - loss: 0.0165 - acc: 0.9956 - val_loss: 0.0485 - val_acc: 0.9876\n",
            "Epoch 7/12\n",
            "60000/60000 [==============================] - 507s 8ms/step - loss: 0.0107 - acc: 0.9971 - val_loss: 0.1258 - val_acc: 0.9840\n",
            "Epoch 8/12\n",
            "60000/60000 [==============================] - 507s 8ms/step - loss: 0.0088 - acc: 0.9974 - val_loss: 0.1006 - val_acc: 0.9850\n",
            "Epoch 9/12\n",
            "60000/60000 [==============================] - 504s 8ms/step - loss: 0.0077 - acc: 0.9978 - val_loss: 0.0586 - val_acc: 0.9887\n",
            "Epoch 10/12\n",
            "60000/60000 [==============================] - 500s 8ms/step - loss: 0.0068 - acc: 0.9980 - val_loss: 0.0648 - val_acc: 0.9868\n",
            "Epoch 11/12\n",
            "60000/60000 [==============================] - 494s 8ms/step - loss: 0.0067 - acc: 0.9981 - val_loss: 0.1101 - val_acc: 0.9850\n",
            "Epoch 12/12\n",
            "60000/60000 [==============================] - 493s 8ms/step - loss: 0.0053 - acc: 0.9984 - val_loss: 0.0896 - val_acc: 0.9864\n",
            "Test loss: 0.0895761543147713\n",
            "Test accuracy: 0.9864\n"
          ],
          "name": "stdout"
        }
      ]
    },
    {
      "cell_type": "code",
      "metadata": {
        "id": "fM3SPB0EID7T",
        "colab_type": "code",
        "colab": {
          "base_uri": "https://localhost:8080/",
          "height": 295
        },
        "outputId": "d2c0ab29-aa48-4cc2-d994-93b8d8c91063"
      },
      "source": [
        "import matplotlib.pyplot as plt\n",
        "plt.plot(history2.history['loss'])\n",
        "plt.plot(history2.history['val_loss'])\n",
        "plt.title('model loss')\n",
        "plt.ylabel('loss')\n",
        "plt.xlabel('epoch')\n",
        "plt.legend(['train', 'test'], loc='upper left')\n",
        "plt.show()"
      ],
      "execution_count": 13,
      "outputs": [
        {
          "output_type": "display_data",
          "data": {
            "image/png": "[encoded data removed]",
            "text/plain": [
              "<Figure size 432x288 with 1 Axes>"
            ]
          },
          "metadata": {
            "tags": []
          }
        }
      ]
    },
    {
      "cell_type": "markdown",
      "metadata": {
        "id": "nmsKy7jkCG0s",
        "colab_type": "text"
      },
      "source": [
        "<h2>Observation</h2>\n",
        "\n",
        "\n",
        "*   there is more loss during test data then train data.\n",
        "\n"
      ]
    },
    {
      "cell_type": "code",
      "metadata": {
        "id": "mJIs962qOvOT",
        "colab_type": "code",
        "outputId": "afdc9916-2252-4762-fd8f-3a2b78ddc470",
        "colab": {
          "base_uri": "https://localhost:8080/",
          "height": 470
        }
      },
      "source": [
        "model = Sequential()\n",
        "model.add(Conv2D(32, kernel_size=(2,2),\n",
        "                 activation='relu',\n",
        "                 input_shape=input_shape))\n",
        "model.add(MaxPooling2D(pool_size=(2,2)))\n",
        "model.add(BatchNormalization())\n",
        "model.add(Dropout(0.2))\n",
        "\n",
        "model.add(Conv2D(40, (2,2), activation='relu'))\n",
        "model.add(MaxPooling2D(pool_size=(2,2)))\n",
        "model.add(BatchNormalization())\n",
        "model.add(Dropout(0.2))\n",
        "\n",
        "model.add(Conv2D(64, (2,2), activation='relu'))\n",
        "model.add(MaxPooling2D(pool_size=(2,2)))\n",
        "model.add(BatchNormalization())\n",
        "model.add(Dropout(0.2))\n",
        "\n",
        "\n",
        "\n",
        "model.add(Flatten())\n",
        "model.add(Dense(128, activation='relu'))\n",
        "model.add(Dropout(0.2))\n",
        "model.add(Dense(num_classes, activation='softmax'))\n",
        "\n",
        "model.compile(loss=keras.losses.categorical_crossentropy,\n",
        "              optimizer=keras.optimizers.Adadelta(),\n",
        "              metrics=['accuracy'])\n",
        "\n",
        "history3=model.fit(x_train, y_train,\n",
        "          batch_size=batch_size,\n",
        "          epochs=epochs,\n",
        "          verbose=1,\n",
        "          validation_data=(x_test, y_test))\n",
        "score = model.evaluate(x_test, y_test, verbose=0)\n",
        "print('Test loss:', score[0])\n",
        "print('Test accuracy:', score[1])"
      ],
      "execution_count": 14,
      "outputs": [
        {
          "output_type": "stream",
          "text": [
            "Train on 60000 samples, validate on 10000 samples\n",
            "Epoch 1/12\n",
            "60000/60000 [==============================] - 74s 1ms/step - loss: 0.3442 - acc: 0.8890 - val_loss: 0.0856 - val_acc: 0.9730\n",
            "Epoch 2/12\n",
            "60000/60000 [==============================] - 69s 1ms/step - loss: 0.1224 - acc: 0.9605 - val_loss: 0.0574 - val_acc: 0.9814\n",
            "Epoch 3/12\n",
            "60000/60000 [==============================] - 73s 1ms/step - loss: 0.0921 - acc: 0.9709 - val_loss: 0.0471 - val_acc: 0.9844\n",
            "Epoch 4/12\n",
            "60000/60000 [==============================] - 71s 1ms/step - loss: 0.0759 - acc: 0.9759 - val_loss: 0.0428 - val_acc: 0.9866\n",
            "Epoch 5/12\n",
            "60000/60000 [==============================] - 72s 1ms/step - loss: 0.0679 - acc: 0.9784 - val_loss: 0.0412 - val_acc: 0.9883\n",
            "Epoch 6/12\n",
            "60000/60000 [==============================] - 70s 1ms/step - loss: 0.0610 - acc: 0.9810 - val_loss: 0.0343 - val_acc: 0.9901\n",
            "Epoch 7/12\n",
            "60000/60000 [==============================] - 68s 1ms/step - loss: 0.0543 - acc: 0.9823 - val_loss: 0.0336 - val_acc: 0.9899\n",
            "Epoch 8/12\n",
            "60000/60000 [==============================] - 71s 1ms/step - loss: 0.0519 - acc: 0.9836 - val_loss: 0.0339 - val_acc: 0.9900\n",
            "Epoch 9/12\n",
            "60000/60000 [==============================] - 71s 1ms/step - loss: 0.0495 - acc: 0.9840 - val_loss: 0.0345 - val_acc: 0.9891\n",
            "Epoch 10/12\n",
            "60000/60000 [==============================] - 70s 1ms/step - loss: 0.0483 - acc: 0.9846 - val_loss: 0.0298 - val_acc: 0.9911\n",
            "Epoch 11/12\n",
            "60000/60000 [==============================] - 72s 1ms/step - loss: 0.0449 - acc: 0.9855 - val_loss: 0.0299 - val_acc: 0.9912\n",
            "Epoch 12/12\n",
            "60000/60000 [==============================] - 72s 1ms/step - loss: 0.0432 - acc: 0.9858 - val_loss: 0.0295 - val_acc: 0.9915\n",
            "Test loss: 0.029483591881848407\n",
            "Test accuracy: 0.9915\n"
          ],
          "name": "stdout"
        }
      ]
    },
    {
      "cell_type": "code",
      "metadata": {
        "id": "pyOF1EMSOvRY",
        "colab_type": "code",
        "colab": {
          "base_uri": "https://localhost:8080/",
          "height": 295
        },
        "outputId": "52bdbfd0-5ba2-4d18-fc66-7af58bf8ea9d"
      },
      "source": [
        "import matplotlib.pyplot as plt\n",
        "plt.plot(history3.history['loss'])\n",
        "plt.plot(history3.history['val_loss'])\n",
        "plt.title('model loss')\n",
        "plt.ylabel('loss')\n",
        "plt.xlabel('epoch')\n",
        "plt.legend(['train', 'test'], loc='upper left')\n",
        "plt.show()"
      ],
      "execution_count": 15,
      "outputs": [
        {
          "output_type": "display_data",
          "data": {
            "image/png": "[encoded data removed]",
            "text/plain": [
              "<Figure size 432x288 with 1 Axes>"
            ]
          },
          "metadata": {
            "tags": []
          }
        }
      ]
    },
    {
      "cell_type": "markdown",
      "metadata": {
        "id": "T4a2FxicCdHp",
        "colab_type": "text"
      },
      "source": [
        "<h2>Observations</h2>\n",
        "\n",
        "\n",
        "*   There is no much difference in the test and the train loss\n",
        "\n"
      ]
    },
    {
      "cell_type": "code",
      "metadata": {
        "id": "coYH6fCOOvTX",
        "colab_type": "code",
        "outputId": "9fe0c53b-7234-4f17-930d-48185ead1ccc",
        "colab": {
          "base_uri": "https://localhost:8080/",
          "height": 134
        }
      },
      "source": [
        "from prettytable import PrettyTable\n",
        "b = PrettyTable()\n",
        "b.field_names = [\"Layers\", \"Accuracy\"]\n",
        "b.add_row([\"3X3 hidden layers\",0.9927])\n",
        "b.add_row([\"5X5 hidden layers\",0.9911])\n",
        "b.add_row([\"2X2 hidden layers\", 0.9909])\n",
        "print(b)"
      ],
      "execution_count": 0,
      "outputs": [
        {
          "output_type": "stream",
          "text": [
            "+-------------------+----------+\n",
            "|       Layers      | Accuracy |\n",
            "+-------------------+----------+\n",
            "| 3X3 hidden layers |  0.9927  |\n",
            "| 5X5 hidden layers |  0.9911  |\n",
            "| 2X2 hidden layers |  0.9909  |\n",
            "+-------------------+----------+\n"
          ],
          "name": "stdout"
        }
      ]
    },
    {
      "cell_type": "markdown",
      "metadata": {
        "id": "w3lnVjQKC50m",
        "colab_type": "text"
      },
      "source": [
        "<h2>Observations</h2>\n",
        "\n",
        "\n",
        "*   As hidden laryes increases then it will take more time to compute.\n",
        "*   if we keep maxpooling very less then it will takes more time to compute.\n",
        "\n"
      ]
    }
  ]
}